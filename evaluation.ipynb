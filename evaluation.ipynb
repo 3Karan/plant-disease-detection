{
 "cells": [
  {
   "cell_type": "code",
   "execution_count": 1,
   "metadata": {},
   "outputs": [
    {
     "name": "stderr",
     "output_type": "stream",
     "text": [
      "c:\\Users\\Dell\\AppData\\Local\\Programs\\Python\\Python311\\Lib\\site-packages\\tqdm\\auto.py:21: TqdmWarning: IProgress not found. Please update jupyter and ipywidgets. See https://ipywidgets.readthedocs.io/en/stable/user_install.html\n",
      "  from .autonotebook import tqdm as notebook_tqdm\n"
     ]
    }
   ],
   "source": [
    "import torch\n",
    "import torch.nn as nn\n",
    "from torch.utils.data import DataLoader, random_split  \n",
    "from torchvision import datasets, models, transforms  \n",
    "from transformers import AutoImageProcessor, AutoModelForImageClassification\n",
    "from PIL import Image"
   ]
  },
  {
   "cell_type": "code",
   "execution_count": 2,
   "metadata": {},
   "outputs": [],
   "source": [
    "device = torch.device(\"cuda\" if torch.cuda.is_available() else \"cpu\")"
   ]
  },
  {
   "cell_type": "code",
   "execution_count": 3,
   "metadata": {},
   "outputs": [],
   "source": [
    "transform = transforms.Compose([\n",
    "    transforms.Resize((224, 224)),\n",
    "    transforms.ToTensor(),\n",
    "    transforms.Normalize(mean=[0.485, 0.456, 0.406], std=[0.229, 0.224, 0.225])\n",
    "])\n"
   ]
  },
  {
   "cell_type": "code",
   "execution_count": 4,
   "metadata": {},
   "outputs": [
    {
     "name": "stderr",
     "output_type": "stream",
     "text": [
      "Fast image processor class <class 'transformers.models.vit.image_processing_vit_fast.ViTImageProcessorFast'> is available for this model. Using slow image processor class. To use the fast image processor class set `use_fast=True`.\n"
     ]
    }
   ],
   "source": [
    "resnet_model = models.resnet50(weights='DEFAULT')\n",
    "processor = AutoImageProcessor.from_pretrained(\"google/vit-base-patch16-224\")\n",
    "vit_model = AutoModelForImageClassification.from_pretrained(\"google/vit-base-patch16-224\")"
   ]
  },
  {
   "cell_type": "code",
   "execution_count": 5,
   "metadata": {},
   "outputs": [],
   "source": [
    "class CombinedModel(nn.Module):\n",
    "    def __init__(self, resnet_model, vit_model, num_classes):\n",
    "        super(CombinedModel, self).__init__()\n",
    "        self.resnet = resnet_model\n",
    "        self.vit = vit_model\n",
    "        self.fc = nn.Linear(1000 + 1000, num_classes)\n",
    "\n",
    "    def forward(self, x):\n",
    "        resnet_features = self.resnet(x)\n",
    "        vit_features = self.vit(x).logits\n",
    "        combined_features = torch.cat((resnet_features, vit_features), dim=1)\n",
    "        return self.fc(combined_features)"
   ]
  },
  {
   "cell_type": "code",
   "execution_count": 6,
   "metadata": {},
   "outputs": [
    {
     "name": "stderr",
     "output_type": "stream",
     "text": [
      "C:\\Users\\Dell\\AppData\\Local\\Temp\\ipykernel_9896\\1394992864.py:2: FutureWarning: You are using `torch.load` with `weights_only=False` (the current default value), which uses the default pickle module implicitly. It is possible to construct malicious pickle data which will execute arbitrary code during unpickling (See https://github.com/pytorch/pytorch/blob/main/SECURITY.md#untrusted-models for more details). In a future release, the default value for `weights_only` will be flipped to `True`. This limits the functions that could be executed during unpickling. Arbitrary objects will no longer be allowed to be loaded via this mode unless they are explicitly allowlisted by the user via `torch.serialization.add_safe_globals`. We recommend you start setting `weights_only=True` for any use case where you don't have full control of the loaded file. Please open an issue on GitHub for any issues related to this experimental feature.\n",
      "  model_stage1.load_state_dict(torch.load('healthy_unhealthy_model.pth'))\n"
     ]
    }
   ],
   "source": [
    "model_stage1 = CombinedModel(resnet_model, vit_model, num_classes=2)\n",
    "model_stage1.load_state_dict(torch.load('healthy_unhealthy_model.pth'))\n",
    "model_stage1 = model_stage1.to(device)"
   ]
  },
  {
   "cell_type": "code",
   "execution_count": 7,
   "metadata": {},
   "outputs": [
    {
     "name": "stderr",
     "output_type": "stream",
     "text": [
      "C:\\Users\\Dell\\AppData\\Local\\Temp\\ipykernel_9896\\461935870.py:2: FutureWarning: You are using `torch.load` with `weights_only=False` (the current default value), which uses the default pickle module implicitly. It is possible to construct malicious pickle data which will execute arbitrary code during unpickling (See https://github.com/pytorch/pytorch/blob/main/SECURITY.md#untrusted-models for more details). In a future release, the default value for `weights_only` will be flipped to `True`. This limits the functions that could be executed during unpickling. Arbitrary objects will no longer be allowed to be loaded via this mode unless they are explicitly allowlisted by the user via `torch.serialization.add_safe_globals`. We recommend you start setting `weights_only=True` for any use case where you don't have full control of the loaded file. Please open an issue on GitHub for any issues related to this experimental feature.\n",
      "  model_stage2.load_state_dict(torch.load('disease_classification_model.pth'))\n"
     ]
    }
   ],
   "source": [
    "model_stage2 = CombinedModel(resnet_model, vit_model, num_classes=3)\n",
    "model_stage2.load_state_dict(torch.load('disease_classification_model.pth'))\n",
    "model_stage2 = model_stage2.to(device)\n"
   ]
  },
  {
   "cell_type": "code",
   "execution_count": 8,
   "metadata": {},
   "outputs": [],
   "source": [
    "def evaluate_model(model, data_loader, criterion):\n",
    "    model.eval()\n",
    "    running_loss, correct, total = 0.0, 0, 0\n",
    "\n",
    "    with torch.no_grad():\n",
    "        for inputs, labels in data_loader:\n",
    "            inputs, labels = inputs.to(device), labels.to(device)\n",
    "            outputs = model(inputs)\n",
    "            loss = criterion(outputs, labels)\n",
    "            running_loss += loss.item()\n",
    "            _, predicted = torch.max(outputs, 1)\n",
    "            total += labels.size(0)\n",
    "            correct += (predicted == labels).sum().item()\n",
    "\n",
    "    val_loss = running_loss / len(data_loader)\n",
    "    val_accuracy = correct / total\n",
    "    return val_loss, val_accuracy"
   ]
  },
  {
   "cell_type": "code",
   "execution_count": 9,
   "metadata": {},
   "outputs": [],
   "source": [
    "stage1_dataset = datasets.ImageFolder(root='Rice 2', transform=transform)\n",
    "train_size = int(0.8 * len(stage1_dataset))\n",
    "val_size = len(stage1_dataset) - train_size\n",
    "train_dataset, val_dataset = random_split(stage1_dataset, [train_size, val_size])\n",
    "val_loader_stage1 = DataLoader(val_dataset, batch_size=32, shuffle=False)\n"
   ]
  },
  {
   "cell_type": "code",
   "execution_count": 10,
   "metadata": {},
   "outputs": [
    {
     "name": "stdout",
     "output_type": "stream",
     "text": [
      "Stage 1 - Healthy vs Unhealthy Classification - Validation Loss: 0.1929, Validation Accuracy: 0.9069\n"
     ]
    }
   ],
   "source": [
    "criterion = nn.CrossEntropyLoss()\n",
    "val_loss_stage1, val_accuracy_stage1 = evaluate_model(model_stage1, val_loader_stage1, criterion)\n",
    "print(f\"Stage 1 - Healthy vs Unhealthy Classification - Validation Loss: {val_loss_stage1:.4f}, Validation Accuracy: {val_accuracy_stage1:.4f}\")\n"
   ]
  },
  {
   "cell_type": "code",
   "execution_count": 11,
   "metadata": {},
   "outputs": [],
   "source": [
    "stage2_dataset = datasets.ImageFolder(root='Rice 2/Unhealthy', transform=transform)\n",
    "train_size = int(0.8 * len(stage2_dataset))\n",
    "val_size = len(stage2_dataset) - train_size\n",
    "train_dataset, val_dataset = random_split(stage2_dataset, [train_size, val_size])\n",
    "val_loader_stage2 = DataLoader(val_dataset, batch_size=32, shuffle=False)"
   ]
  },
  {
   "cell_type": "code",
   "execution_count": 12,
   "metadata": {},
   "outputs": [
    {
     "name": "stdout",
     "output_type": "stream",
     "text": [
      "Stage 2 - Disease Classification - Validation Loss: 0.2018, Validation Accuracy: 0.9112\n"
     ]
    }
   ],
   "source": [
    "val_loss_stage2, val_accuracy_stage2 = evaluate_model(model_stage2, val_loader_stage2, criterion)\n",
    "print(f\"Stage 2 - Disease Classification - Validation Loss: {val_loss_stage2:.4f}, Validation Accuracy: {val_accuracy_stage2:.4f}\")"
   ]
  },
  {
   "cell_type": "code",
   "execution_count": 8,
   "metadata": {},
   "outputs": [],
   "source": [
    "\n",
    "full_dataset = datasets.ImageFolder(root='Rice 2', transform=transform)  # Change this to your dataset path\n",
    "full_loader = DataLoader(full_dataset, batch_size=32, shuffle=False)\n",
    "\n"
   ]
  },
  {
   "cell_type": "code",
   "execution_count": 9,
   "metadata": {},
   "outputs": [],
   "source": [
    "unhealthy_dataset = datasets.ImageFolder(root='Rice 2/Unhealthy', transform=transform)\n",
    "unhealthy_loader = DataLoader(unhealthy_dataset, batch_size=32, shuffle=False)\n"
   ]
  },
  {
   "cell_type": "code",
   "execution_count": null,
   "metadata": {},
   "outputs": [
    {
     "name": "stdout",
     "output_type": "stream",
     "text": [
      "Full Dataset - Validation Loss: 0.1891, Validation Accuracy: 0.9205\n"
     ]
    }
   ],
   "source": [
    "# Evaluate the model on the entire dataset\n",
    "val_loss_full, val_accuracy_full = evaluate_model(model_stage1, full_loader, criterion)\n",
    "print(f\"Full Dataset - Validation Loss: {val_loss_full:.4f}, Validation Accuracy: {val_accuracy_full:.4f}\")"
   ]
  },
  {
   "cell_type": "code",
   "execution_count": 18,
   "metadata": {},
   "outputs": [
    {
     "name": "stdout",
     "output_type": "stream",
     "text": [
      "Overall Unhealthy Classification - Validation Loss: 0.1779, Validation Accuracy: 0.9313\n"
     ]
    }
   ],
   "source": [
    "val_loss_unhealthy, val_accuracy_unhealthy = evaluate_model(model_stage2, unhealthy_loader, criterion)\n",
    "print(f\"Overall Unhealthy Classification - Validation Loss: {val_loss_unhealthy:.4f}, Validation Accuracy: {val_accuracy_unhealthy:.4f}\")"
   ]
  },
  {
   "cell_type": "code",
   "execution_count": 10,
   "metadata": {},
   "outputs": [],
   "source": [
    "import torch\n",
    "import torch.nn as nn\n",
    "from sklearn.metrics import confusion_matrix\n",
    "import seaborn as sns\n",
    "import matplotlib.pyplot as plt\n",
    "import numpy as np\n",
    "\n",
    "def evaluate_model_with_confusion_matrix(model, data_loader, criterion, num_classes):\n",
    "    model.eval()\n",
    "    running_loss, correct, total = 0.0, 0, 0\n",
    "    all_preds = []\n",
    "    all_labels = []\n",
    "\n",
    "    with torch.no_grad():\n",
    "        for inputs, labels in data_loader:\n",
    "            inputs, labels = inputs.to(device), labels.to(device)\n",
    "            outputs = model(inputs)\n",
    "            loss = criterion(outputs, labels)\n",
    "            running_loss += loss.item()\n",
    "            _, predicted = torch.max(outputs, 1)\n",
    "            total += labels.size(0)\n",
    "            correct += (predicted == labels).sum().item()\n",
    "\n",
    "            all_preds.extend(predicted.cpu().numpy())\n",
    "            all_labels.extend(labels.cpu().numpy())\n",
    "\n",
    "    val_loss = running_loss / len(data_loader)\n",
    "    val_accuracy = correct / total\n",
    "    cm = confusion_matrix(all_labels, all_preds, labels=range(num_classes))  # Confusion matrix for multi-class\n",
    "    return val_loss, val_accuracy, cm\n",
    "\n",
    "def plot_confusion_matrix(cm, class_names):\n",
    "    plt.figure(figsize=(8, 6))\n",
    "    sns.heatmap(cm, annot=True, fmt='d', cmap='Blues', xticklabels=class_names, yticklabels=class_names)\n",
    "    plt.xlabel('Predicted')\n",
    "    plt.ylabel('True')\n",
    "    plt.title('Confusion Matrix')\n",
    "    plt.show()\n",
    "\n"
   ]
  },
  {
   "cell_type": "code",
   "execution_count": 12,
   "metadata": {},
   "outputs": [
    {
     "name": "stdout",
     "output_type": "stream",
     "text": [
      "stage 1 - Validation Loss: 0.1891, Validation Accuracy: 0.9205\n"
     ]
    },
    {
     "data": {
      "image/png": "[encoded data removed]",
      "text/plain": [
       "<Figure size 800x600 with 2 Axes>"
      ]
     },
     "metadata": {},
     "output_type": "display_data"
    }
   ],
   "source": [
    "# Stage 1 - Healthy vs Unhealthy Classification\n",
    "criterion = nn.CrossEntropyLoss()\n",
    "\n",
    "val_loss_full, val_accuracy_full, cm_full = evaluate_model_with_confusion_matrix(model_stage1, full_loader, criterion, num_classes=2)\n",
    "print(f\"stage 1 - Validation Loss: {val_loss_full:.4f}, Validation Accuracy: {val_accuracy_full:.4f}\")\n",
    "plot_confusion_matrix(cm_full, ['Healthy', 'Unhealthy'])\n",
    "\n",
    "# Stage 2 - Disease Classification for Unhealthy Leaves\n",
    "\n"
   ]
  },
  {
   "cell_type": "code",
   "execution_count": 13,
   "metadata": {},
   "outputs": [
    {
     "name": "stdout",
     "output_type": "stream",
     "text": [
      "stage 2 - Validation Loss: 0.1779, Validation Accuracy: 0.9313\n"
     ]
    },
    {
     "data": {
      "image/png": "[encoded data removed]",
      "text/plain": [
       "<Figure size 800x600 with 2 Axes>"
      ]
     },
     "metadata": {},
     "output_type": "display_data"
    }
   ],
   "source": [
    "val_loss_unhealthy, val_accuracy_unhealthy, cm_unhealthy = evaluate_model_with_confusion_matrix(model_stage2, unhealthy_loader, criterion, num_classes=3)\n",
    "print(f\"stage 2 - Validation Loss: {val_loss_unhealthy:.4f}, Validation Accuracy: {val_accuracy_unhealthy:.4f}\")\n",
    "plot_confusion_matrix(cm_unhealthy, ['Brown Spot', 'Leaf Blast', 'Neck Blast'])"
   ]
  },
  {
   "cell_type": "code",
   "execution_count": null,
   "metadata": {},
   "outputs": [],
   "source": [
    "val_loss_unhealthy, val_accuracy_unhealthy, cm_unhealthy = evaluate_model_with_confusion_matrix(model_stage2, unhealthy_loader, criterion, num_classes=3)\n",
    "print(f\"stage 2 - Validation Loss: {val_loss_unhealthy:.4f}, Validation Accuracy: {val_accuracy_unhealthy:.4f}\")\n",
    "plot_confusion_matrix(cm_unhealthy, ['Brown Spot', 'Leaf Blast', 'Neck Blast'])"
   ]
  },
  {
   "cell_type": "code",
   "execution_count": 1,
   "metadata": {},
   "outputs": [
    {
     "name": "stdout",
     "output_type": "stream",
     "text": [
      "Healthy: 1488 images\n",
      "Brown Spot: 613 images\n",
      "Leaf Blast: 977 images\n",
      "Neck Blast: 1000 images\n"
     ]
    }
   ],
   "source": [
    "import os\n",
    "\n",
    "# Define the paths to each subcategory folder\n",
    "dataset_paths = {\n",
    "    \"Healthy\": \"Rice 2/Healthy\",\n",
    "    \"Brown Spot\": \"Rice 2/Unhealthy/Brown_Spot\",\n",
    "    \"Leaf Blast\": \"Rice 2/Unhealthy/Leaf_Blast\",\n",
    "    \"Neck Blast\": \"Rice 2/Unhealthy/Neck_Blast\"\n",
    "}\n",
    "\n",
    "# Function to count the number of images in a folder\n",
    "def count_images(folder_path):\n",
    "    # List all files in the folder and filter by image extensions\n",
    "    valid_extensions = ['.jpg', '.jpeg', '.png', '.bmp', '.gif', '.tiff']\n",
    "    image_count = 0\n",
    "    for filename in os.listdir(folder_path):\n",
    "        if any(filename.endswith(ext) for ext in valid_extensions):\n",
    "            image_count += 1\n",
    "    return image_count\n",
    "\n",
    "# Iterate through the dataset paths and count images\n",
    "for category, folder_path in dataset_paths.items():\n",
    "    if os.path.exists(folder_path):\n",
    "        num_images = count_images(folder_path)\n",
    "        print(f\"{category}: {num_images} images\")\n",
    "    else:\n",
    "        print(f\"Folder {folder_path} does not exist.\")\n"
   ]
  },
  {
   "cell_type": "code",
   "execution_count": 2,
   "metadata": {},
   "outputs": [
    {
     "name": "stdout",
     "output_type": "stream",
     "text": [
      " Category Subcategory                 Folder Path                                                    Description  Number of Images\n",
      "  Healthy           -              Rice 2/Healthy                        Contains images of healthy rice leaves.              1488\n",
      "Unhealthy  Brown Spot Rice 2/Unhealthy/Brown_Spot Contains images of rice leaves affected by Brown Spot disease.               613\n",
      "Unhealthy  Leaf Blast Rice 2/Unhealthy/Leaf_Blast Contains images of rice leaves affected by Leaf Blast disease.               977\n",
      "Unhealthy  Neck Blast Rice 2/Unhealthy/Neck_Blast Contains images of rice leaves affected by Neck Blast disease.              1000\n"
     ]
    }
   ],
   "source": [
    "import pandas as pd\n",
    "\n",
    "# Create a dictionary with the dataset details\n",
    "data = {\n",
    "    \"Category\": [\"Healthy\", \"Unhealthy\", \"Unhealthy\", \"Unhealthy\"],\n",
    "    \"Subcategory\": [\"-\", \"Brown Spot\", \"Leaf Blast\", \"Neck Blast\"],\n",
    "    \"Folder Path\": [\n",
    "        \"Rice 2/Healthy\",\n",
    "        \"Rice 2/Unhealthy/Brown_Spot\",\n",
    "        \"Rice 2/Unhealthy/Leaf_Blast\",\n",
    "        \"Rice 2/Unhealthy/Neck_Blast\"\n",
    "    ],\n",
    "    \"Description\": [\n",
    "        \"Contains images of healthy rice leaves.\",\n",
    "        \"Contains images of rice leaves affected by Brown Spot disease.\",\n",
    "        \"Contains images of rice leaves affected by Leaf Blast disease.\",\n",
    "        \"Contains images of rice leaves affected by Neck Blast disease.\"\n",
    "    ],\n",
    "    \"Number of Images\": [1488, 613, 977, 1000]\n",
    "}\n",
    "\n",
    "# Convert the dictionary into a DataFrame\n",
    "df = pd.DataFrame(data)\n",
    "\n",
    "# Display the table\n",
    "print(df.to_string(index=False))\n"
   ]
  },
  {
   "cell_type": "code",
   "execution_count": null,
   "metadata": {},
   "outputs": [],
   "source": []
  }
 ],
 "metadata": {
  "kernelspec": {
   "display_name": "Python 3",
   "language": "python",
   "name": "python3"
  },
  "language_info": {
   "codemirror_mode": {
    "name": "ipython",
    "version": 3
   },
   "file_extension": ".py",
   "mimetype": "text/x-python",
   "name": "python",
   "nbconvert_exporter": "python",
   "pygments_lexer": "ipython3",
   "version": "3.11.3"
  }
 },
 "nbformat": 4,
 "nbformat_minor": 2
}
